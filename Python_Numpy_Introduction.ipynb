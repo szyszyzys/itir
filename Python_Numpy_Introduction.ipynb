{
 "cells": [
  {
   "cell_type": "markdown",
   "metadata": {
    "id": "3q4llFOQmyHN"
   },
   "source": [
    "# Basic data types"
   ]
  },
  {
   "cell_type": "code",
   "execution_count": null,
   "metadata": {
    "id": "UccS9GLXm2Q7"
   },
   "outputs": [],
   "source": [
    "#Integers \n",
    "x = 3\n",
    "#print the type of x\n",
    "\n",
    "# Addition : add 1 to x and print the result\n",
    "\n",
    "# Subtraction; subtract 1 from x and print the result\n",
    "\n",
    "# Multiplication; multiply x with 2 and print the result\n",
    "\n",
    "# Exponentiation; print the square of x\n"
   ]
  },
  {
   "cell_type": "code",
   "execution_count": null,
   "metadata": {
    "id": "gDNf97w0oSxB"
   },
   "outputs": [],
   "source": [
    "#floats\n",
    "y = 2.5\n",
    "#print the type of y\n",
    "\n",
    "#use operator *= to double the value of y and print y \n",
    "\n",
    "\n",
    "#use operator += to add 3 to y and print y \n",
    "\n"
   ]
  },
  {
   "cell_type": "code",
   "execution_count": null,
   "metadata": {
    "id": "4xaTfgDyozmB"
   },
   "outputs": [],
   "source": [
    "#Strings \n",
    "s = \"hello\"\n",
    "# Capitalize the above string and print it\n",
    "\n",
    "#Convert the string to uppercase and print it\n",
    "\n",
    "# Right-justify the string, padding with 2 spaces print it;\n",
    "\n",
    "# Center the string, padding with 2 spaces print it;\n",
    "\n",
    "# Replace all instances of letter l  with \"(ell)\" and print it;\n",
    "\n",
    "str = \" world \"\n",
    "# Strip leading and trailing whitespace in the above string and print\n"
   ]
  },
  {
   "cell_type": "markdown",
   "metadata": {
    "id": "ZRK4igr0r5Qc"
   },
   "source": [
    "# Containers"
   ]
  },
  {
   "cell_type": "code",
   "execution_count": null,
   "metadata": {
    "colab": {
     "base_uri": "https://localhost:8080/"
    },
    "id": "tkt3cWoYrCop",
    "outputId": "1d36a0c8-51b4-42dc-ecbc-792cc6fc4a1e"
   },
   "outputs": [],
   "source": [
    "#Lists\n",
    "#create a list of first five natural numbers\n",
    "list1 = [1,2,3,4]\n",
    "#change the 3rd element to \"foo\" and print list1\n",
    "\n",
    "list2 = [\"bar\"]\n",
    "#append list2 to list1 and print the result\n",
    "\n",
    "#add list2 to list1 using extend and print the result\n",
    "\n",
    "#remove last element in list1 using pop and print list1\n",
    "\n"
   ]
  },
  {
   "cell_type": "code",
   "execution_count": null,
   "metadata": {
    "colab": {
     "base_uri": "https://localhost:8080/"
    },
    "id": "fcayPpYjtla-",
    "outputId": "cd679685-962c-4495-8c3c-e5e55585b0b8"
   },
   "outputs": [],
   "source": [
    "#Slicing \n",
    "nums = list(range(5))\n",
    "#print a slice from index 2 to 4 (exclusive)\n",
    "\n",
    "#print a slice from index 2 to 4 (exclusive)\n",
    "\n",
    "# Slice indices can be negative; \n",
    "print(nums[:-3]) \n",
    "# Assign the [8,9] new list to a slice from index 2 to 4 (exclusive)\n"
   ]
  },
  {
   "cell_type": "code",
   "execution_count": null,
   "metadata": {
    "id": "v-PI9dt3uxkx"
   },
   "outputs": [],
   "source": [
    "#Loops\n",
    "nums = [0, 1, 2, 3, 4]\n",
    "squares = []\n",
    "# append squares of each element in nums to squares using for loop\n",
    "\n",
    "\n",
    "print(squares)\n",
    "####\n",
    "\n",
    "animals = ['cat', 'dog', 'monkey']\n",
    "#print index and elements in the list using enumerate and for loop\n",
    "\n",
    "\n",
    "#print squares of even numbers using list comprehensions\n",
    "nums = [0, 1, 2, 3, 4]\n",
    "even_squares = \n",
    "print(even_squares)"
   ]
  },
  {
   "cell_type": "code",
   "execution_count": null,
   "metadata": {
    "id": "Odzrj6_Nv51m"
   },
   "outputs": [],
   "source": [
    "#Dictionaries\n",
    "#create a dictionary with keys = (cat, dog) and items = (cute,furry)\n",
    "d = \n",
    "print(d)\n",
    "#set an entry {fish:wet}\n",
    "\n",
    "print(d)\n",
    "#remove the entry with key= cat \n",
    "\n",
    "print(d)\n",
    "# Get an element with a default;\n",
    "print(d.get('monkey', 'N/A'))\n",
    "# get an element with key= fish and print it\n",
    "\n",
    "#print all keys in dictionary\n",
    "\n",
    "#print all items in dictionary\n"
   ]
  },
  {
   "cell_type": "code",
   "execution_count": null,
   "metadata": {
    "id": "DAZXgnPqwNrB"
   },
   "outputs": [],
   "source": [
    "#sets \n",
    "#create a set with elements cat, dog and fish\n",
    "s = \n",
    "print (s)\n",
    "#add monkey to the set\n",
    "\n",
    "print(s)\n",
    "#remove fish from the set \n",
    "\n",
    "print(s)\n",
    "#checks if an element is in the set\n",
    "print('fish' in animals)"
   ]
  },
  {
   "cell_type": "markdown",
   "metadata": {
    "id": "1hOHkVTbFVk8"
   },
   "source": [
    "# Numpy"
   ]
  },
  {
   "cell_type": "code",
   "execution_count": null,
   "metadata": {
    "id": "uG2OTLa9FTqL"
   },
   "outputs": [],
   "source": [
    "#importing the numpy package \n",
    "import numpy as np\n",
    "b = np.array([[1,2,3],[4,5,6]])    # Create a rank 2 array\n",
    "#print the shape of the array\n",
    "\n",
    "#print an array of all zeros of shape(2,2)\n",
    "\n",
    "#print an array of all ones of shape(1,2)\n",
    "\n",
    "#print an array of shape (3,3) with all elements in array = 7\n",
    "\n",
    "#print an array filled with random values of shape (2,2)\n"
   ]
  },
  {
   "cell_type": "code",
   "execution_count": null,
   "metadata": {
    "id": "IYiYxnHYP2L5"
   },
   "outputs": [],
   "source": [
    "#ARRAY INDEXING\n",
    "\n",
    "a = np.array([[1,2,3,4], [5,6,7,8], [9,10,11,12]])\n",
    "# Use slicing to print out the subarray consisting of the first 2 rows and columns 1 and 2;\n",
    "\n",
    "a = np.array([[1,2,3], [4,5,6], [7,8,9], [10, 11, 12]])\n",
    "b = np.array([0, 2, 0, 1])\n",
    "# print one element from each row of a using the indices in b\n",
    "\n",
    "# add 10 to one element from each row of a using the indices in b\n"
   ]
  },
  {
   "cell_type": "code",
   "execution_count": null,
   "metadata": {
    "id": "OYsgl7PtSzq-"
   },
   "outputs": [],
   "source": [
    "#Boolean array indexing\n",
    "a = np.array([[1,2], [3, 4], [5, 6]])\n",
    "#Print a numpy array of Booleans where elements of a are bigger than 2 ,shape=(3,2)\n",
    "\n",
    "#a rank 1 array consisting of the elements of a that are bigger than 2\n",
    "\n",
    "x = np.array([1, 2]) \n",
    "#print data type of the array\n",
    "\n",
    "#create an array [[1,2],[3,4]] with data type int64.\n"
   ]
  },
  {
   "cell_type": "code",
   "execution_count": null,
   "metadata": {
    "id": "VZoDHzWSUk3_"
   },
   "outputs": [],
   "source": [
    "#Array math\n",
    "x = np.array([[1,2],[3,4]], dtype=np.float64)\n",
    "y = np.array([[5,6],[7,8]], dtype=np.float64)\n",
    "#print elementwise addition using numpy function\n",
    "\n",
    "#print elementwise difference using numpy function\n",
    "\n",
    "#print elementwise multiplication using numpy function\n",
    "\n",
    "#print elementwise division using numpy function\n",
    "\n",
    "#print elementwise square root using numpy function\n"
   ]
  },
  {
   "cell_type": "code",
   "execution_count": null,
   "metadata": {
    "id": "TmMfplkRVZIu"
   },
   "outputs": [],
   "source": [
    "x = np.array([[1,2],[3,4]])\n",
    "y = np.array([[5,6],[7,8]])\n",
    "\n",
    "v = np.array([9,10])\n",
    "w = np.array([11, 12])\n",
    "\n",
    "#print Inner product of vectors\n",
    "\n",
    "#print matrix / vector product of x and v \n",
    "\n",
    "#print matrix / vector product of x and y \n"
   ]
  },
  {
   "cell_type": "code",
   "execution_count": null,
   "metadata": {
    "id": "5_Iy6xwGXVS8"
   },
   "outputs": [],
   "source": [
    "x = np.array([[1,2],[3,4]])\n",
    "#print sum of all elements in array\n",
    "\n",
    "#print sum of elements in each row\n",
    "\n",
    "#print sum of elements in each column\n"
   ]
  },
  {
   "cell_type": "code",
   "execution_count": null,
   "metadata": {
    "id": "dwkaL3GSZiBl"
   },
   "outputs": [],
   "source": [
    "x = np.array([[1,2,3], [4,5,6], [7,8,9], [10, 11, 12]])\n",
    "v = np.array([1, 0, 1])\n",
    "#Create an empty matrix with the same shape as x and print\n",
    "\n",
    "# create an array y by adding  the vector v to each row of the matrix x with an explicit loop \n",
    "#print y\n",
    "\n",
    "\n",
    "\n",
    "#Add v to each row of x using broadcasting\n",
    "#store the result in matrix y and print y\n",
    "\n"
   ]
  },
  {
   "cell_type": "code",
   "execution_count": null,
   "metadata": {
    "id": "apNuOG-_bomv"
   },
   "outputs": [],
   "source": [
    "v = np.array([1,2,3])  \n",
    "w = np.array([4,5])\n",
    "#reshape v to(3,1) using numpy function and print it\n"
   ]
  }
 ],
 "metadata": {
  "colab": {
   "collapsed_sections": [],
   "name": "HW1.ipynb",
   "provenance": []
  },
  "kernelspec": {
   "display_name": "Python 3 (ipykernel)",
   "language": "python",
   "name": "python3"
  },
  "language_info": {
   "codemirror_mode": {
    "name": "ipython",
    "version": 3
   },
   "file_extension": ".py",
   "mimetype": "text/x-python",
   "name": "python",
   "nbconvert_exporter": "python",
   "pygments_lexer": "ipython3",
   "version": "3.9.7"
  }
 },
 "nbformat": 4,
 "nbformat_minor": 1
}
